{
 "cells": [
  {
   "cell_type": "code",
   "execution_count": 1,
   "metadata": {},
   "outputs": [
    {
     "name": "stderr",
     "output_type": "stream",
     "text": [
      "Using TensorFlow backend.\n"
     ]
    }
   ],
   "source": [
    "NUM_CLASSES = 43\n",
    "IMAGE_SIZE = 96\n",
    "import os\n",
    "\n",
    "os.environ['KMP_DUPLICATE_LIB_OK']='True'\n",
    "from keras import backend as K\n",
    "K.set_image_data_format('channels_first')\n",
    "#K.set_image_data_format('channels_last')"
   ]
  },
  {
   "cell_type": "code",
   "execution_count": 2,
   "metadata": {},
   "outputs": [],
   "source": [
    "import glob, os\n",
    "import numpy as np\n",
    "import pandas as pd\n",
    "from skimage import io, color, exposure, transform\n",
    "from keras.models import Sequential\n",
    "from keras.layers.core import Dense, Dropout, Activation, Flatten\n",
    "from keras.layers.convolutional import Conv2D, ZeroPadding2D\n",
    "from keras.layers.pooling import MaxPooling2D, AveragePooling2D\n",
    "from keras.utils import np_utils\n",
    "from keras import backend as K, applications, Model\n",
    "import keras\n",
    "from keras.models import Sequential\n",
    "from keras.layers import Dense, Activation, Dropout, Flatten, Conv2D, MaxPooling2D\n",
    "from keras.layers.normalization import BatchNormalization\n",
    "import numpy as np"
   ]
  },
  {
   "cell_type": "code",
   "execution_count": 3,
   "metadata": {},
   "outputs": [],
   "source": [
    "def preprocess_img(img):\n",
    "    hsv = color.rgb2hsv(img)\n",
    "    hsv[:,:,2] = exposure.equalize_hist(hsv[:,:,2])\n",
    "    img = color.hsv2rgb(hsv)\n",
    "\n",
    "    min_side = min(img.shape[:-1])\n",
    "    centre = img.shape[0]//2, img.shape[1]//2\n",
    "    img = img[centre[0]-min_side//2:centre[0]+min_side//2,\n",
    "              centre[1]-min_side//2:centre[1]+min_side//2,\n",
    "              :]\n",
    "\n",
    "    #img = color.rgb2gray(img)\n",
    "    img = transform.resize(img, (IMAGE_SIZE, IMAGE_SIZE))\n",
    "\n",
    "    img = np.rollaxis(img,-1)\n",
    "\n",
    "    return img"
   ]
  },
  {
   "cell_type": "code",
   "execution_count": 4,
   "metadata": {},
   "outputs": [],
   "source": [
    "def load_train_dataset(root_dir):\n",
    "    imgs = []\n",
    "    labels = []\n",
    "   \n",
    "    all_img_paths = glob.glob(root_dir+'*/*.ppm', recursive=True)\n",
    "    np.random.shuffle(all_img_paths)\n",
    "    for img_path in all_img_paths:\n",
    "        try:\n",
    "            img = preprocess_img(io.imread(img_path))\n",
    "            label = int(img_path.split('\\\\')[-2])\n",
    "            imgs.append(img)\n",
    "            labels.append(label)\n",
    "\n",
    "            #if len(imgs) % 1000 == 0: print(\"Processed {}/{}\".format(len(imgs), len(all_img_paths)))\n",
    "        except (IOError, OSError):\n",
    "            print('missed', img_path)\n",
    "            pass\n",
    "\n",
    "    X = np.array(imgs, dtype='float32')\n",
    "    Y = np.eye(NUM_CLASSES, dtype='uint8')[labels]\n",
    "    return X, Y"
   ]
  },
  {
   "cell_type": "code",
   "execution_count": 5,
   "metadata": {},
   "outputs": [],
   "source": [
    "def load_test_datatset(gt_path, test_dataset_path):\n",
    "    gt = pd.read_csv(gt_path, sep=';')\n",
    "    X_test = []\n",
    "    Y_test = []\n",
    "    for file_name, class_id in zip(list(gt['Filename']), list(gt['ClassId'])):\n",
    "        img_path = os.path.join(test_dataset_path, file_name)\n",
    "        X_test.append(preprocess_img(io.imread(img_path)))\n",
    "        Y_test.append(class_id)\n",
    "\n",
    "    return np.array(X_test), np.array(Y_test)\n"
   ]
  },
  {
   "cell_type": "code",
   "execution_count": 9,
   "metadata": {
    "scrolled": true
   },
   "outputs": [
    {
     "name": "stderr",
     "output_type": "stream",
     "text": [
      "C:\\Users\\stsh0318\\AppData\\Local\\Continuum\\anaconda3\\lib\\site-packages\\skimage\\transform\\_warps.py:105: UserWarning: The default mode, 'constant', will be changed to 'reflect' in skimage 0.15.\n",
      "  warn(\"The default mode, 'constant', will be changed to 'reflect' in \"\n",
      "C:\\Users\\stsh0318\\AppData\\Local\\Continuum\\anaconda3\\lib\\site-packages\\skimage\\transform\\_warps.py:110: UserWarning: Anti-aliasing will be enabled by default in skimage 0.15 to avoid aliasing artifacts when down-sampling images.\n",
      "  warn(\"Anti-aliasing will be enabled by default in skimage 0.15 to \"\n"
     ]
    }
   ],
   "source": [
    "X_train_orig, Y_train_orig = load_train_dataset('GTSRB\\Final_Training\\Images\\\\')"
   ]
  },
  {
   "cell_type": "code",
   "execution_count": 10,
   "metadata": {},
   "outputs": [
    {
     "name": "stderr",
     "output_type": "stream",
     "text": [
      "C:\\Users\\stsh0318\\AppData\\Local\\Continuum\\anaconda3\\lib\\site-packages\\skimage\\transform\\_warps.py:105: UserWarning: The default mode, 'constant', will be changed to 'reflect' in skimage 0.15.\n",
      "  warn(\"The default mode, 'constant', will be changed to 'reflect' in \"\n",
      "C:\\Users\\stsh0318\\AppData\\Local\\Continuum\\anaconda3\\lib\\site-packages\\skimage\\transform\\_warps.py:110: UserWarning: Anti-aliasing will be enabled by default in skimage 0.15 to avoid aliasing artifacts when down-sampling images.\n",
      "  warn(\"Anti-aliasing will be enabled by default in skimage 0.15 to \"\n"
     ]
    }
   ],
   "source": [
    "X_test_orig, Y_test_orig = load_test_datatset('GT-final_test.csv', 'GTSRB\\Final_Test\\Images\\\\')"
   ]
  },
  {
   "cell_type": "code",
   "execution_count": 29,
   "metadata": {},
   "outputs": [
    {
     "name": "stdout",
     "output_type": "stream",
     "text": [
      "(12630, 3, 96, 96)\n",
      "(12630,)\n",
      "(39209, 3, 96, 96)\n",
      "(39209, 43)\n"
     ]
    }
   ],
   "source": [
    "print(X_test_orig.shape)\n",
    "print(Y_test_orig.shape)\n",
    "print(X_train_orig.shape)\n",
    "print(Y_train_orig.shape)"
   ]
  },
  {
   "cell_type": "code",
   "execution_count": 31,
   "metadata": {},
   "outputs": [],
   "source": [
    "Y_test = np_utils.to_categorical(Y_test_orig, NUM_CLASSES)\n",
    "#Y_test.shape\n",
    "X_train = X_train_orig#.reshape(X_train_orig.shape[0], 1, IMAGE_SIZE, IMAGE_SIZE)\n",
    "Y_train = Y_train_orig #np_utils.to_categorical(Y_train_orig, NUM_CLASSES)\n",
    "\n",
    "X_test = X_test_orig#.reshape(X_test_orig.shape[0], 1, IMAGE_SIZE, IMAGE_SIZE)"
   ]
  },
  {
   "cell_type": "code",
   "execution_count": 13,
   "metadata": {},
   "outputs": [],
   "source": [
    "from keras.layers.core import  Lambda\n",
    "from keras import backend as K\n",
    "\n",
    "from keras.models import Model\n",
    "from keras.layers import Input, Dense, Dropout, Activation, Flatten\n",
    "from keras.layers.merge import concatenate\n",
    "from keras.layers.convolutional import Convolution2D, MaxPooling2D, ZeroPadding2D\n",
    "from keras.regularizers import l2\n",
    "\n",
    "# Paper: https://papers.nips.cc/paper/4824-imagenet-classification-with-deep-convolutional-neural-networks.pdf\n",
    "# Caffe code: https://github.com/BVLC/caffe/tree/master/models/bvlc_alexnet\n",
    "# Adapted from: https://github.com/heuritech/convnets-keras\n",
    "\n",
    "def crosschannelnormalization(alpha=1e-4, k=2, beta=0.75, n=5, **kwargs):\n",
    "    \"\"\"\n",
    "    This is the function used for cross channel normalization in the original\n",
    "    Alexnet\n",
    "    \"\"\"\n",
    "\n",
    "\n",
    "    def f(X):\n",
    "        if K.image_dim_ordering()=='tf':\n",
    "            b, r, c, ch = X.get_shape()\n",
    "        else:\n",
    "            b, ch, r, c = X.shape\n",
    "\n",
    "        half = n // 2\n",
    "        square = K.square(X)\n",
    "        scale = k\n",
    "        if K.image_dim_ordering() == 'th':\n",
    "            extra_channels = K.spatial_2d_padding(K.permute_dimensions(square, (0, 2, 3, 1)), ((0, 0),(half,half)))\n",
    "            extra_channels = K.permute_dimensions(extra_channels, (0, 3, 1, 2))\n",
    "            for i in range(n):\n",
    "                scale += alpha * extra_channels[:, i:i+ch, :, :]\n",
    "        if K.image_dim_ordering() == 'tf':\n",
    "            extra_channels = K.spatial_2d_padding(K.permute_dimensions(square, (0, 3, 1, 2)), ((half,half),(0, 0)))\n",
    "            extra_channels = K.permute_dimensions(extra_channels, (0, 2, 3, 1))\n",
    "            for i in range(n):\n",
    "                scale += alpha * extra_channels[:, :, :, i:i+int(ch)]\n",
    "        scale = scale ** beta\n",
    "        return X / scale\n",
    "\n",
    "    return Lambda(f, output_shape=lambda input_shape: input_shape, **kwargs)\n",
    "\n",
    "\n",
    "def splittensor(axis=1, ratio_split=1, id_split=0, **kwargs):\n",
    "    def f(X):\n",
    "        div = K.shape(X)[axis] // ratio_split\n",
    "\n",
    "        if axis == 0:\n",
    "            output = X[id_split*div:(id_split+1)*div, :, :, :]\n",
    "        elif axis == 1:\n",
    "            output = X[:, id_split*div:(id_split+1)*div, :, :]\n",
    "        elif axis == 2:\n",
    "            output = X[:, :, id_split*div:(id_split+1)*div, :]\n",
    "        elif axis == 3:\n",
    "            output = X[:, :, :, id_split*div:(id_split+1)*div]\n",
    "        else:\n",
    "            raise ValueError(\"This axis is not possible\")\n",
    "\n",
    "        return output\n",
    "\n",
    "    def g(input_shape):\n",
    "        output_shape = list(input_shape)\n",
    "        output_shape[axis] = output_shape[axis] // ratio_split\n",
    "        return tuple(output_shape)\n",
    "\n",
    "    return Lambda(f, output_shape=lambda input_shape: g(input_shape), **kwargs)\n",
    "\n",
    "\n",
    "def build_alexNet(img_shape=(3, 227, 227), n_classes=1000, l2_reg=0.):\n",
    "\n",
    "    dim_ordering = K.image_dim_ordering()\n",
    "    if dim_ordering == 'th':\n",
    "        batch_index = 0\n",
    "        channel_index = 1\n",
    "        row_index = 2\n",
    "        col_index = 3\n",
    "    if dim_ordering == 'tf':\n",
    "        batch_index = 0\n",
    "        channel_index = 3\n",
    "        row_index = 1\n",
    "        col_index = 2\n",
    "\n",
    "    inputs = Input(img_shape)\n",
    "\n",
    "    conv_1 = Convolution2D(96, 11, 11, subsample=(4, 4), activation='relu',\n",
    "                           name='conv_1', W_regularizer=l2(l2_reg))(inputs)\n",
    "\n",
    "    conv_2 = MaxPooling2D((3, 3), strides=(2, 2))(conv_1)\n",
    "    conv_2 = crosschannelnormalization(name=\"convpool_1\")(conv_2)\n",
    "    conv_2 = ZeroPadding2D((2, 2))(conv_2)\n",
    "    conv_2 = concatenate([\n",
    "        Convolution2D(128, 5, 5, activation=\"relu\", name='conv_2_'+str(i+1),\n",
    "                      W_regularizer=l2(l2_reg))(\n",
    "            splittensor(axis=channel_index, ratio_split=2, id_split=i)(conv_2)\n",
    "        ) for i in range(2)], axis=channel_index, name=\"conv_2\")\n",
    "\n",
    "    conv_3 = MaxPooling2D((3, 3), strides=(2, 2))(conv_2)\n",
    "    conv_3 = crosschannelnormalization()(conv_3)\n",
    "    conv_3 = ZeroPadding2D((1, 1))(conv_3)\n",
    "    conv_3 = Convolution2D(384, 3, 3, activation='relu', name='conv_3',\n",
    "                           W_regularizer=l2(l2_reg))(conv_3)\n",
    "\n",
    "    conv_4 = ZeroPadding2D((1, 1))(conv_3)\n",
    "    conv_4 = concatenate([\n",
    "        Convolution2D(192, 3, 3, activation=\"relu\", name='conv_4_'+str(i+1),\n",
    "                      W_regularizer=l2(l2_reg))(\n",
    "            splittensor(axis=channel_index, ratio_split=2, id_split=i)(conv_4)\n",
    "        ) for i in range(2)], axis=channel_index, name=\"conv_4\")\n",
    "\n",
    "    conv_5 = ZeroPadding2D((1, 1))(conv_4)\n",
    "    conv_5 = concatenate([\n",
    "        Convolution2D(128, 3, 3, activation=\"relu\", name='conv_5_'+str(i+1),\n",
    "                      W_regularizer=l2(l2_reg))(\n",
    "            splittensor(axis=channel_index, ratio_split=2, id_split=i)(conv_5)\n",
    "        ) for i in range(2)], axis=channel_index, name=\"conv_5\")\n",
    "\n",
    "    dense_1 = MaxPooling2D((3, 3), strides=(2, 2), name=\"convpool_5\")(conv_5)\n",
    "\n",
    "    dense_1 = Flatten(name=\"flatten\")(dense_1)\n",
    "    dense_1 = Dense(4096, activation='relu', name='dense_1',\n",
    "                    W_regularizer=l2(l2_reg))(dense_1)\n",
    "    dense_2 = Dropout(0.5)(dense_1)\n",
    "    dense_2 = Dense(4096, activation='relu', name='dense_2',\n",
    "                    W_regularizer=l2(l2_reg))(dense_2)\n",
    "    dense_3 = Dropout(0.5)(dense_2)\n",
    "    if n_classes == 1000:\n",
    "        dense_3 = Dense(n_classes, name='dense_3',\n",
    "                        W_regularizer=l2(l2_reg))(dense_3)\n",
    "    else:\n",
    "        # We change the name so when loading the weights_file from a\n",
    "        # Imagenet pretrained model does not crash\n",
    "        dense_3 = Dense(n_classes, name='dense_3_new',\n",
    "                        W_regularizer=l2(l2_reg))(dense_3)\n",
    "    prediction = Activation(\"softmax\", name=\"softmax\")(dense_3)\n",
    "\n",
    "    model = Model(input=inputs, output=prediction)\n",
    "\n",
    "    return model"
   ]
  },
  {
   "cell_type": "code",
   "execution_count": 38,
   "metadata": {},
   "outputs": [
    {
     "name": "stderr",
     "output_type": "stream",
     "text": [
      "C:\\Users\\stsh0318\\AppData\\Local\\Continuum\\anaconda3\\lib\\site-packages\\ipykernel_launcher.py:88: UserWarning: Update your `Conv2D` call to the Keras 2 API: `Conv2D(96, (11, 11), activation=\"relu\", name=\"conv_1\", strides=(4, 4), kernel_regularizer=<keras.reg...)`\n",
      "C:\\Users\\stsh0318\\AppData\\Local\\Continuum\\anaconda3\\lib\\site-packages\\ipykernel_launcher.py:97: UserWarning: Update your `Conv2D` call to the Keras 2 API: `Conv2D(128, (5, 5), activation=\"relu\", name=\"conv_2_1\", kernel_regularizer=<keras.reg...)`\n",
      "C:\\Users\\stsh0318\\AppData\\Local\\Continuum\\anaconda3\\lib\\site-packages\\ipykernel_launcher.py:97: UserWarning: Update your `Conv2D` call to the Keras 2 API: `Conv2D(128, (5, 5), activation=\"relu\", name=\"conv_2_2\", kernel_regularizer=<keras.reg...)`\n",
      "C:\\Users\\stsh0318\\AppData\\Local\\Continuum\\anaconda3\\lib\\site-packages\\ipykernel_launcher.py:103: UserWarning: Update your `Conv2D` call to the Keras 2 API: `Conv2D(384, (3, 3), activation=\"relu\", name=\"conv_3\", kernel_regularizer=<keras.reg...)`\n",
      "C:\\Users\\stsh0318\\AppData\\Local\\Continuum\\anaconda3\\lib\\site-packages\\ipykernel_launcher.py:110: UserWarning: Update your `Conv2D` call to the Keras 2 API: `Conv2D(192, (3, 3), activation=\"relu\", name=\"conv_4_1\", kernel_regularizer=<keras.reg...)`\n",
      "C:\\Users\\stsh0318\\AppData\\Local\\Continuum\\anaconda3\\lib\\site-packages\\ipykernel_launcher.py:110: UserWarning: Update your `Conv2D` call to the Keras 2 API: `Conv2D(192, (3, 3), activation=\"relu\", name=\"conv_4_2\", kernel_regularizer=<keras.reg...)`\n"
     ]
    },
    {
     "name": "stdout",
     "output_type": "stream",
     "text": [
      "__________________________________________________________________________________________________\n",
      "Layer (type)                    Output Shape         Param #     Connected to                     \n",
      "==================================================================================================\n",
      "input_10 (InputLayer)           (None, 3, 96, 96)    0                                            \n",
      "__________________________________________________________________________________________________\n",
      "conv_1 (Conv2D)                 (None, 96, 22, 22)   34944       input_10[0][0]                   \n",
      "__________________________________________________________________________________________________\n",
      "max_pooling2d_5 (MaxPooling2D)  (None, 96, 10, 10)   0           conv_1[0][0]                     \n",
      "__________________________________________________________________________________________________\n",
      "convpool_1 (Lambda)             (None, 96, 10, 10)   0           max_pooling2d_5[0][0]            \n",
      "__________________________________________________________________________________________________\n",
      "zero_padding2d_9 (ZeroPadding2D (None, 96, 14, 14)   0           convpool_1[0][0]                 \n",
      "__________________________________________________________________________________________________\n",
      "lambda_15 (Lambda)              (None, 48, 14, 14)   0           zero_padding2d_9[0][0]           \n",
      "__________________________________________________________________________________________________\n",
      "lambda_16 (Lambda)              (None, 48, 14, 14)   0           zero_padding2d_9[0][0]           \n",
      "__________________________________________________________________________________________________\n",
      "conv_2_1 (Conv2D)               (None, 128, 10, 10)  153728      lambda_15[0][0]                  \n",
      "__________________________________________________________________________________________________\n",
      "conv_2_2 (Conv2D)               (None, 128, 10, 10)  153728      lambda_16[0][0]                  \n",
      "__________________________________________________________________________________________________\n",
      "conv_2 (Concatenate)            (None, 256, 10, 10)  0           conv_2_1[0][0]                   \n",
      "                                                                 conv_2_2[0][0]                   \n",
      "__________________________________________________________________________________________________\n",
      "max_pooling2d_6 (MaxPooling2D)  (None, 256, 4, 4)    0           conv_2[0][0]                     \n",
      "__________________________________________________________________________________________________\n",
      "lambda_17 (Lambda)              (None, 256, 4, 4)    0           max_pooling2d_6[0][0]            \n",
      "__________________________________________________________________________________________________\n",
      "zero_padding2d_10 (ZeroPadding2 (None, 256, 6, 6)    0           lambda_17[0][0]                  \n",
      "__________________________________________________________________________________________________\n",
      "conv_3 (Conv2D)                 (None, 384, 4, 4)    885120      zero_padding2d_10[0][0]          \n",
      "__________________________________________________________________________________________________\n",
      "zero_padding2d_11 (ZeroPadding2 (None, 384, 6, 6)    0           conv_3[0][0]                     \n",
      "__________________________________________________________________________________________________\n",
      "lambda_18 (Lambda)              (None, 192, 6, 6)    0           zero_padding2d_11[0][0]          \n",
      "__________________________________________________________________________________________________\n",
      "lambda_19 (Lambda)              (None, 192, 6, 6)    0           zero_padding2d_11[0][0]          \n",
      "__________________________________________________________________________________________________\n",
      "conv_4_1 (Conv2D)               (None, 192, 4, 4)    331968      lambda_18[0][0]                  \n",
      "__________________________________________________________________________________________________\n",
      "conv_4_2 (Conv2D)               (None, 192, 4, 4)    331968      lambda_19[0][0]                  \n",
      "__________________________________________________________________________________________________\n",
      "conv_4 (Concatenate)            (None, 384, 4, 4)    0           conv_4_1[0][0]                   \n",
      "                                                                 conv_4_2[0][0]                   \n",
      "__________________________________________________________________________________________________\n",
      "zero_padding2d_12 (ZeroPadding2 (None, 384, 6, 6)    0           conv_4[0][0]                     \n",
      "__________________________________________________________________________________________________\n",
      "lambda_20 (Lambda)              (None, 192, 6, 6)    0           zero_padding2d_12[0][0]          \n",
      "__________________________________________________________________________________________________\n",
      "lambda_21 (Lambda)              (None, 192, 6, 6)    0           zero_padding2d_12[0][0]          \n",
      "__________________________________________________________________________________________________\n",
      "conv_5_1 (Conv2D)               (None, 128, 4, 4)    221312      lambda_20[0][0]                  \n",
      "__________________________________________________________________________________________________\n",
      "conv_5_2 (Conv2D)               (None, 128, 4, 4)    221312      lambda_21[0][0]                  \n",
      "__________________________________________________________________________________________________\n",
      "conv_5 (Concatenate)            (None, 256, 4, 4)    0           conv_5_1[0][0]                   \n",
      "                                                                 conv_5_2[0][0]                   \n",
      "__________________________________________________________________________________________________\n",
      "convpool_5 (MaxPooling2D)       (None, 256, 1, 1)    0           conv_5[0][0]                     \n",
      "__________________________________________________________________________________________________\n",
      "flatten (Flatten)               (None, 256)          0           convpool_5[0][0]                 \n",
      "__________________________________________________________________________________________________\n",
      "dense_1 (Dense)                 (None, 4096)         1052672     flatten[0][0]                    \n",
      "__________________________________________________________________________________________________\n",
      "dropout_7 (Dropout)             (None, 4096)         0           dense_1[0][0]                    \n",
      "__________________________________________________________________________________________________\n",
      "dense_2 (Dense)                 (None, 4096)         16781312    dropout_7[0][0]                  \n",
      "__________________________________________________________________________________________________\n",
      "dropout_8 (Dropout)             (None, 4096)         0           dense_2[0][0]                    \n",
      "__________________________________________________________________________________________________\n",
      "dense_3 (Dense)                 (None, 1000)         4097000     dropout_8[0][0]                  \n",
      "__________________________________________________________________________________________________\n",
      "softmax (Activation)            (None, 1000)         0           dense_3[0][0]                    \n",
      "==================================================================================================\n",
      "Total params: 24,265,064\n",
      "Trainable params: 24,265,064\n",
      "Non-trainable params: 0\n",
      "__________________________________________________________________________________________________\n"
     ]
    },
    {
     "name": "stderr",
     "output_type": "stream",
     "text": [
      "C:\\Users\\stsh0318\\AppData\\Local\\Continuum\\anaconda3\\lib\\site-packages\\ipykernel_launcher.py:117: UserWarning: Update your `Conv2D` call to the Keras 2 API: `Conv2D(128, (3, 3), activation=\"relu\", name=\"conv_5_1\", kernel_regularizer=<keras.reg...)`\n",
      "C:\\Users\\stsh0318\\AppData\\Local\\Continuum\\anaconda3\\lib\\site-packages\\ipykernel_launcher.py:117: UserWarning: Update your `Conv2D` call to the Keras 2 API: `Conv2D(128, (3, 3), activation=\"relu\", name=\"conv_5_2\", kernel_regularizer=<keras.reg...)`\n",
      "C:\\Users\\stsh0318\\AppData\\Local\\Continuum\\anaconda3\\lib\\site-packages\\ipykernel_launcher.py:123: UserWarning: Update your `Dense` call to the Keras 2 API: `Dense(4096, activation=\"relu\", name=\"dense_1\", kernel_regularizer=<keras.reg...)`\n",
      "C:\\Users\\stsh0318\\AppData\\Local\\Continuum\\anaconda3\\lib\\site-packages\\ipykernel_launcher.py:126: UserWarning: Update your `Dense` call to the Keras 2 API: `Dense(4096, activation=\"relu\", name=\"dense_2\", kernel_regularizer=<keras.reg...)`\n",
      "C:\\Users\\stsh0318\\AppData\\Local\\Continuum\\anaconda3\\lib\\site-packages\\ipykernel_launcher.py:130: UserWarning: Update your `Dense` call to the Keras 2 API: `Dense(1000, name=\"dense_3\", kernel_regularizer=<keras.reg...)`\n",
      "C:\\Users\\stsh0318\\AppData\\Local\\Continuum\\anaconda3\\lib\\site-packages\\ipykernel_launcher.py:138: UserWarning: Update your `Model` call to the Keras 2 API: `Model(inputs=Tensor(\"in..., outputs=Tensor(\"so...)`\n"
     ]
    }
   ],
   "source": [
    "model = build_alexNet((3, IMAGE_SIZE, IMAGE_SIZE))\n",
    "model.summary()"
   ]
  },
  {
   "cell_type": "code",
   "execution_count": 41,
   "metadata": {},
   "outputs": [
    {
     "name": "stderr",
     "output_type": "stream",
     "text": [
      "C:\\Users\\stsh0318\\AppData\\Local\\Continuum\\anaconda3\\lib\\site-packages\\ipykernel_launcher.py:7: UserWarning: Update your `Model` call to the Keras 2 API: `Model(Tensor(\"in..., outputs=Tensor(\"de...)`\n",
      "  import sys\n"
     ]
    }
   ],
   "source": [
    "#model.load_weights(\"alexnet_weights.h5\")\n",
    "x = model.output\n",
    "#x = Flatten()(x)\n",
    "x = Dropout(0.5)(x)\n",
    "predictions = Dense(NUM_CLASSES, activation='softmax')(x)\n",
    "# creating the final model\n",
    "model_final = Model(model.input, output=predictions)"
   ]
  },
  {
   "cell_type": "code",
   "execution_count": null,
   "metadata": {},
   "outputs": [],
   "source": []
  },
  {
   "cell_type": "code",
   "execution_count": null,
   "metadata": {},
   "outputs": [],
   "source": []
  },
  {
   "cell_type": "code",
   "execution_count": 42,
   "metadata": {},
   "outputs": [],
   "source": [
    "model_final.compile(loss='categorical_crossentropy', optimizer='adam', metrics=['accuracy'])"
   ]
  },
  {
   "cell_type": "code",
   "execution_count": 43,
   "metadata": {},
   "outputs": [
    {
     "name": "stdout",
     "output_type": "stream",
     "text": [
      "Train on 39209 samples, validate on 12630 samples\n",
      "Epoch 1/20\n",
      "39209/39209 [==============================] - 593s 15ms/step - loss: 3.6473 - acc: 0.0545 - val_loss: 3.5567 - val_acc: 0.0570\n",
      "Epoch 2/20\n",
      "39209/39209 [==============================] - 565s 14ms/step - loss: 3.5542 - acc: 0.0566 - val_loss: 3.5010 - val_acc: 0.0594\n",
      "Epoch 3/20\n",
      "39209/39209 [==============================] - 566s 14ms/step - loss: 3.5272 - acc: 0.0536 - val_loss: 3.4821 - val_acc: 0.0594\n",
      "Epoch 4/20\n",
      "39209/39209 [==============================] - 565s 14ms/step - loss: 3.5141 - acc: 0.0565 - val_loss: 3.4740 - val_acc: 0.0570\n",
      "Epoch 5/20\n",
      "39209/39209 [==============================] - 568s 14ms/step - loss: 3.5044 - acc: 0.0570 - val_loss: 3.4699 - val_acc: 0.0594\n",
      "Epoch 6/20\n",
      "39209/39209 [==============================] - 567s 14ms/step - loss: 3.5004 - acc: 0.0565 - val_loss: 3.4677 - val_acc: 0.0594\n",
      "Epoch 7/20\n",
      "39209/39209 [==============================] - 567s 14ms/step - loss: 3.4961 - acc: 0.0568 - val_loss: 3.4664 - val_acc: 0.0594\n",
      "Epoch 8/20\n",
      "39209/39209 [==============================] - 566s 14ms/step - loss: 3.4935 - acc: 0.0570 - val_loss: 3.4657 - val_acc: 0.0594\n",
      "Epoch 9/20\n",
      "39209/39209 [==============================] - 565s 14ms/step - loss: 3.4916 - acc: 0.0565 - val_loss: 3.4652 - val_acc: 0.0594\n",
      "Epoch 10/20\n",
      "39209/39209 [==============================] - 565s 14ms/step - loss: 3.4901 - acc: 0.0573 - val_loss: 3.4646 - val_acc: 0.0594\n",
      "Epoch 11/20\n",
      "39209/39209 [==============================] - 578s 15ms/step - loss: 3.4887 - acc: 0.0571 - val_loss: 3.4643 - val_acc: 0.0594\n",
      "Epoch 12/20\n",
      "39209/39209 [==============================] - 565s 14ms/step - loss: 3.4886 - acc: 0.0564 - val_loss: 3.4641 - val_acc: 0.0594\n",
      "Epoch 13/20\n",
      "39209/39209 [==============================] - 566s 14ms/step - loss: 3.4877 - acc: 0.0572 - val_loss: 3.4640 - val_acc: 0.0594\n",
      "Epoch 14/20\n",
      "39209/39209 [==============================] - 566s 14ms/step - loss: 3.4871 - acc: 0.0571 - val_loss: 3.4638 - val_acc: 0.0594\n",
      "Epoch 15/20\n",
      "39209/39209 [==============================] - 563s 14ms/step - loss: 3.4866 - acc: 0.0557 - val_loss: 3.4634 - val_acc: 0.0594\n",
      "Epoch 16/20\n",
      "39209/39209 [==============================] - 565s 14ms/step - loss: 3.4866 - acc: 0.0564 - val_loss: 3.4634 - val_acc: 0.0594\n",
      "Epoch 17/20\n",
      "39209/39209 [==============================] - 564s 14ms/step - loss: 3.4866 - acc: 0.0575 - val_loss: 3.4635 - val_acc: 0.0594\n",
      "Epoch 18/20\n",
      "39209/39209 [==============================] - 567s 14ms/step - loss: 3.4864 - acc: 0.0548 - val_loss: 3.4634 - val_acc: 0.0594\n",
      "Epoch 19/20\n",
      "39209/39209 [==============================] - 565s 14ms/step - loss: 3.4862 - acc: 0.0558 - val_loss: 3.4633 - val_acc: 0.0594\n",
      "Epoch 20/20\n",
      "39209/39209 [==============================] - 563s 14ms/step - loss: 3.4861 - acc: 0.0569 - val_loss: 3.4631 - val_acc: 0.0594\n"
     ]
    },
    {
     "ename": "RuntimeError",
     "evalue": "You must compile a model before training/testing. Use `model.compile(optimizer, loss)`.",
     "output_type": "error",
     "traceback": [
      "\u001b[1;31m---------------------------------------------------------------------------\u001b[0m",
      "\u001b[1;31mRuntimeError\u001b[0m                              Traceback (most recent call last)",
      "\u001b[1;32m<ipython-input-43-3c7184920b5b>\u001b[0m in \u001b[0;36m<module>\u001b[1;34m()\u001b[0m\n\u001b[0;32m      6\u001b[0m           validation_data=(X_test, Y_test))\n\u001b[0;32m      7\u001b[0m \u001b[1;33m\u001b[0m\u001b[0m\n\u001b[1;32m----> 8\u001b[1;33m \u001b[0mscore\u001b[0m \u001b[1;33m=\u001b[0m \u001b[0mmodel\u001b[0m\u001b[1;33m.\u001b[0m\u001b[0mevaluate\u001b[0m\u001b[1;33m(\u001b[0m\u001b[0mX_test\u001b[0m\u001b[1;33m,\u001b[0m \u001b[0mY_test\u001b[0m\u001b[1;33m,\u001b[0m \u001b[0mverbose\u001b[0m\u001b[1;33m=\u001b[0m\u001b[1;36m1\u001b[0m\u001b[1;33m)\u001b[0m\u001b[1;33m\u001b[0m\u001b[0m\n\u001b[0m\u001b[0;32m      9\u001b[0m \u001b[0mprint\u001b[0m\u001b[1;33m(\u001b[0m\u001b[1;34m'Test score:'\u001b[0m\u001b[1;33m,\u001b[0m \u001b[0mscore\u001b[0m\u001b[1;33m[\u001b[0m\u001b[1;36m0\u001b[0m\u001b[1;33m]\u001b[0m\u001b[1;33m)\u001b[0m\u001b[1;33m\u001b[0m\u001b[0m\n\u001b[0;32m     10\u001b[0m \u001b[0mprint\u001b[0m\u001b[1;33m(\u001b[0m\u001b[1;34m'Test accuracy:'\u001b[0m\u001b[1;33m,\u001b[0m \u001b[0mscore\u001b[0m\u001b[1;33m[\u001b[0m\u001b[1;36m1\u001b[0m\u001b[1;33m]\u001b[0m\u001b[1;33m)\u001b[0m\u001b[1;33m\u001b[0m\u001b[0m\n",
      "\u001b[1;32m~\\AppData\\Local\\Continuum\\anaconda3\\lib\\site-packages\\keras\\engine\\training.py\u001b[0m in \u001b[0;36mevaluate\u001b[1;34m(self, x, y, batch_size, verbose, sample_weight, steps)\u001b[0m\n\u001b[0;32m   1100\u001b[0m             \u001b[0mx\u001b[0m\u001b[1;33m,\u001b[0m \u001b[0my\u001b[0m\u001b[1;33m,\u001b[0m\u001b[1;33m\u001b[0m\u001b[0m\n\u001b[0;32m   1101\u001b[0m             \u001b[0msample_weight\u001b[0m\u001b[1;33m=\u001b[0m\u001b[0msample_weight\u001b[0m\u001b[1;33m,\u001b[0m\u001b[1;33m\u001b[0m\u001b[0m\n\u001b[1;32m-> 1102\u001b[1;33m             batch_size=batch_size)\n\u001b[0m\u001b[0;32m   1103\u001b[0m         \u001b[1;31m# Prepare inputs, delegate logic to `test_loop`.\u001b[0m\u001b[1;33m\u001b[0m\u001b[1;33m\u001b[0m\u001b[0m\n\u001b[0;32m   1104\u001b[0m         \u001b[1;32mif\u001b[0m \u001b[0mself\u001b[0m\u001b[1;33m.\u001b[0m\u001b[0m_uses_dynamic_learning_phase\u001b[0m\u001b[1;33m(\u001b[0m\u001b[1;33m)\u001b[0m\u001b[1;33m:\u001b[0m\u001b[1;33m\u001b[0m\u001b[0m\n",
      "\u001b[1;32m~\\AppData\\Local\\Continuum\\anaconda3\\lib\\site-packages\\keras\\engine\\training.py\u001b[0m in \u001b[0;36m_standardize_user_data\u001b[1;34m(self, x, y, sample_weight, class_weight, check_array_lengths, batch_size)\u001b[0m\n\u001b[0;32m    679\u001b[0m         \u001b[1;32mif\u001b[0m \u001b[0my\u001b[0m \u001b[1;32mis\u001b[0m \u001b[1;32mnot\u001b[0m \u001b[1;32mNone\u001b[0m\u001b[1;33m:\u001b[0m\u001b[1;33m\u001b[0m\u001b[0m\n\u001b[0;32m    680\u001b[0m             \u001b[1;32mif\u001b[0m \u001b[1;32mnot\u001b[0m \u001b[0mself\u001b[0m\u001b[1;33m.\u001b[0m\u001b[0moptimizer\u001b[0m\u001b[1;33m:\u001b[0m\u001b[1;33m\u001b[0m\u001b[0m\n\u001b[1;32m--> 681\u001b[1;33m                 raise RuntimeError('You must compile a model before '\n\u001b[0m\u001b[0;32m    682\u001b[0m                                    \u001b[1;34m'training/testing. '\u001b[0m\u001b[1;33m\u001b[0m\u001b[0m\n\u001b[0;32m    683\u001b[0m                                    'Use `model.compile(optimizer, loss)`.')\n",
      "\u001b[1;31mRuntimeError\u001b[0m: You must compile a model before training/testing. Use `model.compile(optimizer, loss)`."
     ]
    }
   ],
   "source": [
    "model_final.fit(X_train, Y_train,\n",
    "          epochs=20,\n",
    "          batch_size=128,\n",
    "          shuffle=True,\n",
    "          verbose=1,\n",
    "          validation_data=(X_test, Y_test))\n",
    "\n",
    "\n"
   ]
  },
  {
   "cell_type": "code",
   "execution_count": 44,
   "metadata": {},
   "outputs": [
    {
     "name": "stdout",
     "output_type": "stream",
     "text": [
      "12630/12630 [==============================] - 74s 6ms/step\n",
      "Test score: 3.463088956109513\n",
      "Test accuracy: 0.05938242280285035\n",
      "__________________________________________________________________________________________________\n",
      "Layer (type)                    Output Shape         Param #     Connected to                     \n",
      "==================================================================================================\n",
      "input_10 (InputLayer)           (None, 3, 96, 96)    0                                            \n",
      "__________________________________________________________________________________________________\n",
      "conv_1 (Conv2D)                 (None, 96, 22, 22)   34944       input_10[0][0]                   \n",
      "__________________________________________________________________________________________________\n",
      "max_pooling2d_5 (MaxPooling2D)  (None, 96, 10, 10)   0           conv_1[0][0]                     \n",
      "__________________________________________________________________________________________________\n",
      "convpool_1 (Lambda)             (None, 96, 10, 10)   0           max_pooling2d_5[0][0]            \n",
      "__________________________________________________________________________________________________\n",
      "zero_padding2d_9 (ZeroPadding2D (None, 96, 14, 14)   0           convpool_1[0][0]                 \n",
      "__________________________________________________________________________________________________\n",
      "lambda_15 (Lambda)              (None, 48, 14, 14)   0           zero_padding2d_9[0][0]           \n",
      "__________________________________________________________________________________________________\n",
      "lambda_16 (Lambda)              (None, 48, 14, 14)   0           zero_padding2d_9[0][0]           \n",
      "__________________________________________________________________________________________________\n",
      "conv_2_1 (Conv2D)               (None, 128, 10, 10)  153728      lambda_15[0][0]                  \n",
      "__________________________________________________________________________________________________\n",
      "conv_2_2 (Conv2D)               (None, 128, 10, 10)  153728      lambda_16[0][0]                  \n",
      "__________________________________________________________________________________________________\n",
      "conv_2 (Concatenate)            (None, 256, 10, 10)  0           conv_2_1[0][0]                   \n",
      "                                                                 conv_2_2[0][0]                   \n",
      "__________________________________________________________________________________________________\n",
      "max_pooling2d_6 (MaxPooling2D)  (None, 256, 4, 4)    0           conv_2[0][0]                     \n",
      "__________________________________________________________________________________________________\n",
      "lambda_17 (Lambda)              (None, 256, 4, 4)    0           max_pooling2d_6[0][0]            \n",
      "__________________________________________________________________________________________________\n",
      "zero_padding2d_10 (ZeroPadding2 (None, 256, 6, 6)    0           lambda_17[0][0]                  \n",
      "__________________________________________________________________________________________________\n",
      "conv_3 (Conv2D)                 (None, 384, 4, 4)    885120      zero_padding2d_10[0][0]          \n",
      "__________________________________________________________________________________________________\n",
      "zero_padding2d_11 (ZeroPadding2 (None, 384, 6, 6)    0           conv_3[0][0]                     \n",
      "__________________________________________________________________________________________________\n",
      "lambda_18 (Lambda)              (None, 192, 6, 6)    0           zero_padding2d_11[0][0]          \n",
      "__________________________________________________________________________________________________\n",
      "lambda_19 (Lambda)              (None, 192, 6, 6)    0           zero_padding2d_11[0][0]          \n",
      "__________________________________________________________________________________________________\n",
      "conv_4_1 (Conv2D)               (None, 192, 4, 4)    331968      lambda_18[0][0]                  \n",
      "__________________________________________________________________________________________________\n",
      "conv_4_2 (Conv2D)               (None, 192, 4, 4)    331968      lambda_19[0][0]                  \n",
      "__________________________________________________________________________________________________\n",
      "conv_4 (Concatenate)            (None, 384, 4, 4)    0           conv_4_1[0][0]                   \n",
      "                                                                 conv_4_2[0][0]                   \n",
      "__________________________________________________________________________________________________\n",
      "zero_padding2d_12 (ZeroPadding2 (None, 384, 6, 6)    0           conv_4[0][0]                     \n",
      "__________________________________________________________________________________________________\n",
      "lambda_20 (Lambda)              (None, 192, 6, 6)    0           zero_padding2d_12[0][0]          \n",
      "__________________________________________________________________________________________________\n",
      "lambda_21 (Lambda)              (None, 192, 6, 6)    0           zero_padding2d_12[0][0]          \n",
      "__________________________________________________________________________________________________\n",
      "conv_5_1 (Conv2D)               (None, 128, 4, 4)    221312      lambda_20[0][0]                  \n",
      "__________________________________________________________________________________________________\n",
      "conv_5_2 (Conv2D)               (None, 128, 4, 4)    221312      lambda_21[0][0]                  \n",
      "__________________________________________________________________________________________________\n",
      "conv_5 (Concatenate)            (None, 256, 4, 4)    0           conv_5_1[0][0]                   \n",
      "                                                                 conv_5_2[0][0]                   \n",
      "__________________________________________________________________________________________________\n",
      "convpool_5 (MaxPooling2D)       (None, 256, 1, 1)    0           conv_5[0][0]                     \n",
      "__________________________________________________________________________________________________\n",
      "flatten (Flatten)               (None, 256)          0           convpool_5[0][0]                 \n",
      "__________________________________________________________________________________________________\n",
      "dense_1 (Dense)                 (None, 4096)         1052672     flatten[0][0]                    \n",
      "__________________________________________________________________________________________________\n",
      "dropout_7 (Dropout)             (None, 4096)         0           dense_1[0][0]                    \n",
      "__________________________________________________________________________________________________\n",
      "dense_2 (Dense)                 (None, 4096)         16781312    dropout_7[0][0]                  \n",
      "__________________________________________________________________________________________________\n",
      "dropout_8 (Dropout)             (None, 4096)         0           dense_2[0][0]                    \n",
      "__________________________________________________________________________________________________\n",
      "dense_3 (Dense)                 (None, 1000)         4097000     dropout_8[0][0]                  \n",
      "__________________________________________________________________________________________________\n",
      "softmax (Activation)            (None, 1000)         0           dense_3[0][0]                    \n",
      "__________________________________________________________________________________________________\n",
      "dropout_10 (Dropout)            (None, 1000)         0           softmax[0][0]                    \n",
      "__________________________________________________________________________________________________\n",
      "dense_4 (Dense)                 (None, 43)           43043       dropout_10[0][0]                 \n",
      "==================================================================================================\n",
      "Total params: 24,308,107\n",
      "Trainable params: 24,308,107\n",
      "Non-trainable params: 0\n",
      "__________________________________________________________________________________________________\n"
     ]
    }
   ],
   "source": [
    "score = model_final.evaluate(X_test, Y_test, verbose=1)\n",
    "print('Test score:', score[0])\n",
    "print('Test accuracy:', score[1])\n",
    "\n",
    "model_final.summary()"
   ]
  },
  {
   "cell_type": "code",
   "execution_count": 47,
   "metadata": {},
   "outputs": [
    {
     "name": "stderr",
     "output_type": "stream",
     "text": [
      "C:\\Users\\stsh0318\\AppData\\Local\\Continuum\\anaconda3\\lib\\site-packages\\ipykernel_launcher.py:88: UserWarning: Update your `Conv2D` call to the Keras 2 API: `Conv2D(96, (11, 11), activation=\"relu\", name=\"conv_1\", strides=(4, 4), kernel_regularizer=<keras.reg...)`\n",
      "C:\\Users\\stsh0318\\AppData\\Local\\Continuum\\anaconda3\\lib\\site-packages\\ipykernel_launcher.py:97: UserWarning: Update your `Conv2D` call to the Keras 2 API: `Conv2D(128, (5, 5), activation=\"relu\", name=\"conv_2_1\", kernel_regularizer=<keras.reg...)`\n",
      "C:\\Users\\stsh0318\\AppData\\Local\\Continuum\\anaconda3\\lib\\site-packages\\ipykernel_launcher.py:97: UserWarning: Update your `Conv2D` call to the Keras 2 API: `Conv2D(128, (5, 5), activation=\"relu\", name=\"conv_2_2\", kernel_regularizer=<keras.reg...)`\n",
      "C:\\Users\\stsh0318\\AppData\\Local\\Continuum\\anaconda3\\lib\\site-packages\\ipykernel_launcher.py:103: UserWarning: Update your `Conv2D` call to the Keras 2 API: `Conv2D(384, (3, 3), activation=\"relu\", name=\"conv_3\", kernel_regularizer=<keras.reg...)`\n",
      "C:\\Users\\stsh0318\\AppData\\Local\\Continuum\\anaconda3\\lib\\site-packages\\ipykernel_launcher.py:110: UserWarning: Update your `Conv2D` call to the Keras 2 API: `Conv2D(192, (3, 3), activation=\"relu\", name=\"conv_4_1\", kernel_regularizer=<keras.reg...)`\n",
      "C:\\Users\\stsh0318\\AppData\\Local\\Continuum\\anaconda3\\lib\\site-packages\\ipykernel_launcher.py:110: UserWarning: Update your `Conv2D` call to the Keras 2 API: `Conv2D(192, (3, 3), activation=\"relu\", name=\"conv_4_2\", kernel_regularizer=<keras.reg...)`\n",
      "C:\\Users\\stsh0318\\AppData\\Local\\Continuum\\anaconda3\\lib\\site-packages\\ipykernel_launcher.py:117: UserWarning: Update your `Conv2D` call to the Keras 2 API: `Conv2D(128, (3, 3), activation=\"relu\", name=\"conv_5_1\", kernel_regularizer=<keras.reg...)`\n",
      "C:\\Users\\stsh0318\\AppData\\Local\\Continuum\\anaconda3\\lib\\site-packages\\ipykernel_launcher.py:117: UserWarning: Update your `Conv2D` call to the Keras 2 API: `Conv2D(128, (3, 3), activation=\"relu\", name=\"conv_5_2\", kernel_regularizer=<keras.reg...)`\n",
      "C:\\Users\\stsh0318\\AppData\\Local\\Continuum\\anaconda3\\lib\\site-packages\\ipykernel_launcher.py:123: UserWarning: Update your `Dense` call to the Keras 2 API: `Dense(4096, activation=\"relu\", name=\"dense_1\", kernel_regularizer=<keras.reg...)`\n",
      "C:\\Users\\stsh0318\\AppData\\Local\\Continuum\\anaconda3\\lib\\site-packages\\ipykernel_launcher.py:126: UserWarning: Update your `Dense` call to the Keras 2 API: `Dense(4096, activation=\"relu\", name=\"dense_2\", kernel_regularizer=<keras.reg...)`\n",
      "C:\\Users\\stsh0318\\AppData\\Local\\Continuum\\anaconda3\\lib\\site-packages\\ipykernel_launcher.py:130: UserWarning: Update your `Dense` call to the Keras 2 API: `Dense(1000, name=\"dense_3\", kernel_regularizer=<keras.reg...)`\n",
      "C:\\Users\\stsh0318\\AppData\\Local\\Continuum\\anaconda3\\lib\\site-packages\\ipykernel_launcher.py:138: UserWarning: Update your `Model` call to the Keras 2 API: `Model(inputs=Tensor(\"in..., outputs=Tensor(\"so...)`\n"
     ]
    },
    {
     "name": "stdout",
     "output_type": "stream",
     "text": [
      "__________________________________________________________________________________________________\n",
      "Layer (type)                    Output Shape         Param #     Connected to                     \n",
      "==================================================================================================\n",
      "input_13 (InputLayer)           (None, 3, 227, 227)  0                                            \n",
      "__________________________________________________________________________________________________\n",
      "conv_1 (Conv2D)                 (None, 96, 55, 55)   34944       input_13[0][0]                   \n",
      "__________________________________________________________________________________________________\n",
      "max_pooling2d_11 (MaxPooling2D) (None, 96, 27, 27)   0           conv_1[0][0]                     \n",
      "__________________________________________________________________________________________________\n",
      "convpool_1 (Lambda)             (None, 96, 27, 27)   0           max_pooling2d_11[0][0]           \n",
      "__________________________________________________________________________________________________\n",
      "zero_padding2d_21 (ZeroPadding2 (None, 96, 31, 31)   0           convpool_1[0][0]                 \n",
      "__________________________________________________________________________________________________\n",
      "lambda_36 (Lambda)              (None, 48, 31, 31)   0           zero_padding2d_21[0][0]          \n",
      "__________________________________________________________________________________________________\n",
      "lambda_37 (Lambda)              (None, 48, 31, 31)   0           zero_padding2d_21[0][0]          \n",
      "__________________________________________________________________________________________________\n",
      "conv_2_1 (Conv2D)               (None, 128, 27, 27)  153728      lambda_36[0][0]                  \n",
      "__________________________________________________________________________________________________\n",
      "conv_2_2 (Conv2D)               (None, 128, 27, 27)  153728      lambda_37[0][0]                  \n",
      "__________________________________________________________________________________________________\n",
      "conv_2 (Concatenate)            (None, 256, 27, 27)  0           conv_2_1[0][0]                   \n",
      "                                                                 conv_2_2[0][0]                   \n",
      "__________________________________________________________________________________________________\n",
      "max_pooling2d_12 (MaxPooling2D) (None, 256, 13, 13)  0           conv_2[0][0]                     \n",
      "__________________________________________________________________________________________________\n",
      "lambda_38 (Lambda)              (None, 256, 13, 13)  0           max_pooling2d_12[0][0]           \n",
      "__________________________________________________________________________________________________\n",
      "zero_padding2d_22 (ZeroPadding2 (None, 256, 15, 15)  0           lambda_38[0][0]                  \n",
      "__________________________________________________________________________________________________\n",
      "conv_3 (Conv2D)                 (None, 384, 13, 13)  885120      zero_padding2d_22[0][0]          \n",
      "__________________________________________________________________________________________________\n",
      "zero_padding2d_23 (ZeroPadding2 (None, 384, 15, 15)  0           conv_3[0][0]                     \n",
      "__________________________________________________________________________________________________\n",
      "lambda_39 (Lambda)              (None, 192, 15, 15)  0           zero_padding2d_23[0][0]          \n",
      "__________________________________________________________________________________________________\n",
      "lambda_40 (Lambda)              (None, 192, 15, 15)  0           zero_padding2d_23[0][0]          \n",
      "__________________________________________________________________________________________________\n",
      "conv_4_1 (Conv2D)               (None, 192, 13, 13)  331968      lambda_39[0][0]                  \n",
      "__________________________________________________________________________________________________\n",
      "conv_4_2 (Conv2D)               (None, 192, 13, 13)  331968      lambda_40[0][0]                  \n",
      "__________________________________________________________________________________________________\n",
      "conv_4 (Concatenate)            (None, 384, 13, 13)  0           conv_4_1[0][0]                   \n",
      "                                                                 conv_4_2[0][0]                   \n",
      "__________________________________________________________________________________________________\n",
      "zero_padding2d_24 (ZeroPadding2 (None, 384, 15, 15)  0           conv_4[0][0]                     \n",
      "__________________________________________________________________________________________________\n",
      "lambda_41 (Lambda)              (None, 192, 15, 15)  0           zero_padding2d_24[0][0]          \n",
      "__________________________________________________________________________________________________\n",
      "lambda_42 (Lambda)              (None, 192, 15, 15)  0           zero_padding2d_24[0][0]          \n",
      "__________________________________________________________________________________________________\n",
      "conv_5_1 (Conv2D)               (None, 128, 13, 13)  221312      lambda_41[0][0]                  \n",
      "__________________________________________________________________________________________________\n",
      "conv_5_2 (Conv2D)               (None, 128, 13, 13)  221312      lambda_42[0][0]                  \n",
      "__________________________________________________________________________________________________\n",
      "conv_5 (Concatenate)            (None, 256, 13, 13)  0           conv_5_1[0][0]                   \n",
      "                                                                 conv_5_2[0][0]                   \n",
      "__________________________________________________________________________________________________\n",
      "convpool_5 (MaxPooling2D)       (None, 256, 6, 6)    0           conv_5[0][0]                     \n",
      "__________________________________________________________________________________________________\n",
      "flatten (Flatten)               (None, 9216)         0           convpool_5[0][0]                 \n",
      "__________________________________________________________________________________________________\n",
      "dense_1 (Dense)                 (None, 4096)         37752832    flatten[0][0]                    \n",
      "__________________________________________________________________________________________________\n",
      "dropout_15 (Dropout)            (None, 4096)         0           dense_1[0][0]                    \n",
      "__________________________________________________________________________________________________\n",
      "dense_2 (Dense)                 (None, 4096)         16781312    dropout_15[0][0]                 \n",
      "__________________________________________________________________________________________________\n",
      "dropout_16 (Dropout)            (None, 4096)         0           dense_2[0][0]                    \n",
      "__________________________________________________________________________________________________\n",
      "dense_3 (Dense)                 (None, 1000)         4097000     dropout_16[0][0]                 \n",
      "__________________________________________________________________________________________________\n",
      "softmax (Activation)            (None, 1000)         0           dense_3[0][0]                    \n",
      "==================================================================================================\n",
      "Total params: 60,965,224\n",
      "Trainable params: 60,965,224\n",
      "Non-trainable params: 0\n",
      "__________________________________________________________________________________________________\n"
     ]
    }
   ],
   "source": [
    "model_pre_trained = build_alexNet()\n",
    "model_pre_trained.load_weights(\"alexnet_weights.h5\")\n",
    "model_pre_trained.summary()"
   ]
  },
  {
   "cell_type": "code",
   "execution_count": 48,
   "metadata": {},
   "outputs": [
    {
     "name": "stdout",
     "output_type": "stream",
     "text": [
      "_________________________________________________________________\n",
      "Layer (type)                 Output Shape              Param #   \n",
      "=================================================================\n",
      "input_14 (InputLayer)        (None, 3, 96, 96)         0         \n",
      "_________________________________________________________________\n",
      "model_17 (Model)             (None, 1000)              60965224  \n",
      "=================================================================\n",
      "Total params: 60,965,224\n",
      "Trainable params: 60,965,224\n",
      "Non-trainable params: 0\n",
      "_________________________________________________________________\n"
     ]
    }
   ],
   "source": [
    "newInput = Input((3, IMAGE_SIZE, IMAGE_SIZE))    # let us say this new InputLayer\n",
    "newOutputs = model_pre_trained(newInput)\n",
    "newModel = Model(newInput, newOutputs)\n",
    "\n",
    "newModel.summary()"
   ]
  },
  {
   "cell_type": "code",
   "execution_count": 50,
   "metadata": {},
   "outputs": [
    {
     "name": "stderr",
     "output_type": "stream",
     "text": [
      "C:\\Users\\stsh0318\\AppData\\Local\\Continuum\\anaconda3\\lib\\site-packages\\ipykernel_launcher.py:9: UserWarning: Update your `Model` call to the Keras 2 API: `Model(inputs=Tensor(\"in..., outputs=Tensor(\"de...)`\n",
      "  if __name__ == '__main__':\n"
     ]
    }
   ],
   "source": [
    "for layer in newModel.layers:\n",
    "    layer.trainable = False\n",
    "x = newModel.output\n",
    "x = Dense(512, activation='relu')(x)\n",
    "x = Dropout(0.5)(x)\n",
    "predictions = Dense(NUM_CLASSES, activation='softmax')(x)\n",
    "\n",
    "# creating the final model\n",
    "model__pre_trained_final = Model(input=newModel.input, output=predictions)"
   ]
  },
  {
   "cell_type": "code",
   "execution_count": 51,
   "metadata": {},
   "outputs": [],
   "source": [
    "model__pre_trained_final.compile(loss='categorical_crossentropy', optimizer='adam', metrics=['accuracy'])"
   ]
  },
  {
   "cell_type": "code",
   "execution_count": 52,
   "metadata": {},
   "outputs": [
    {
     "ename": "InvalidArgumentError",
     "evalue": "Matrix size-incompatible: In[0]: [32,256], In[1]: [9216,4096]\n\t [[{{node model_17/dense_1/MatMul}}]]",
     "output_type": "error",
     "traceback": [
      "\u001b[1;31m---------------------------------------------------------------------------\u001b[0m",
      "\u001b[1;31mInvalidArgumentError\u001b[0m                      Traceback (most recent call last)",
      "\u001b[1;32m<ipython-input-52-34f0b606c2cb>\u001b[0m in \u001b[0;36m<module>\u001b[1;34m()\u001b[0m\n\u001b[1;32m----> 1\u001b[1;33m \u001b[0mscore\u001b[0m \u001b[1;33m=\u001b[0m \u001b[0mmodel__pre_trained_final\u001b[0m\u001b[1;33m.\u001b[0m\u001b[0mevaluate\u001b[0m\u001b[1;33m(\u001b[0m\u001b[0mX_test\u001b[0m\u001b[1;33m,\u001b[0m \u001b[0mY_test\u001b[0m\u001b[1;33m,\u001b[0m \u001b[0mverbose\u001b[0m\u001b[1;33m=\u001b[0m\u001b[1;36m1\u001b[0m\u001b[1;33m)\u001b[0m\u001b[1;33m\u001b[0m\u001b[0m\n\u001b[0m\u001b[0;32m      2\u001b[0m \u001b[0mprint\u001b[0m\u001b[1;33m(\u001b[0m\u001b[1;34m'Test score:'\u001b[0m\u001b[1;33m,\u001b[0m \u001b[0mscore\u001b[0m\u001b[1;33m[\u001b[0m\u001b[1;36m0\u001b[0m\u001b[1;33m]\u001b[0m\u001b[1;33m)\u001b[0m\u001b[1;33m\u001b[0m\u001b[0m\n\u001b[0;32m      3\u001b[0m \u001b[0mprint\u001b[0m\u001b[1;33m(\u001b[0m\u001b[1;34m'Test accuracy:'\u001b[0m\u001b[1;33m,\u001b[0m \u001b[0mscore\u001b[0m\u001b[1;33m[\u001b[0m\u001b[1;36m1\u001b[0m\u001b[1;33m]\u001b[0m\u001b[1;33m)\u001b[0m\u001b[1;33m\u001b[0m\u001b[0m\n\u001b[0;32m      4\u001b[0m \u001b[1;33m\u001b[0m\u001b[0m\n\u001b[0;32m      5\u001b[0m \u001b[0mmodel__pre_trained_final\u001b[0m\u001b[1;33m.\u001b[0m\u001b[0msummary\u001b[0m\u001b[1;33m(\u001b[0m\u001b[1;33m)\u001b[0m\u001b[1;33m\u001b[0m\u001b[0m\n",
      "\u001b[1;32m~\\AppData\\Local\\Continuum\\anaconda3\\lib\\site-packages\\keras\\engine\\training.py\u001b[0m in \u001b[0;36mevaluate\u001b[1;34m(self, x, y, batch_size, verbose, sample_weight, steps)\u001b[0m\n\u001b[0;32m   1111\u001b[0m                                          \u001b[0mbatch_size\u001b[0m\u001b[1;33m=\u001b[0m\u001b[0mbatch_size\u001b[0m\u001b[1;33m,\u001b[0m\u001b[1;33m\u001b[0m\u001b[0m\n\u001b[0;32m   1112\u001b[0m                                          \u001b[0mverbose\u001b[0m\u001b[1;33m=\u001b[0m\u001b[0mverbose\u001b[0m\u001b[1;33m,\u001b[0m\u001b[1;33m\u001b[0m\u001b[0m\n\u001b[1;32m-> 1113\u001b[1;33m                                          steps=steps)\n\u001b[0m\u001b[0;32m   1114\u001b[0m \u001b[1;33m\u001b[0m\u001b[0m\n\u001b[0;32m   1115\u001b[0m     def predict(self, x,\n",
      "\u001b[1;32m~\\AppData\\Local\\Continuum\\anaconda3\\lib\\site-packages\\keras\\engine\\training_arrays.py\u001b[0m in \u001b[0;36mtest_loop\u001b[1;34m(model, f, ins, batch_size, verbose, steps)\u001b[0m\n\u001b[0;32m    390\u001b[0m                 \u001b[0mins_batch\u001b[0m\u001b[1;33m[\u001b[0m\u001b[0mi\u001b[0m\u001b[1;33m]\u001b[0m \u001b[1;33m=\u001b[0m \u001b[0mins_batch\u001b[0m\u001b[1;33m[\u001b[0m\u001b[0mi\u001b[0m\u001b[1;33m]\u001b[0m\u001b[1;33m.\u001b[0m\u001b[0mtoarray\u001b[0m\u001b[1;33m(\u001b[0m\u001b[1;33m)\u001b[0m\u001b[1;33m\u001b[0m\u001b[0m\n\u001b[0;32m    391\u001b[0m \u001b[1;33m\u001b[0m\u001b[0m\n\u001b[1;32m--> 392\u001b[1;33m             \u001b[0mbatch_outs\u001b[0m \u001b[1;33m=\u001b[0m \u001b[0mf\u001b[0m\u001b[1;33m(\u001b[0m\u001b[0mins_batch\u001b[0m\u001b[1;33m)\u001b[0m\u001b[1;33m\u001b[0m\u001b[0m\n\u001b[0m\u001b[0;32m    393\u001b[0m             \u001b[1;32mif\u001b[0m \u001b[0misinstance\u001b[0m\u001b[1;33m(\u001b[0m\u001b[0mbatch_outs\u001b[0m\u001b[1;33m,\u001b[0m \u001b[0mlist\u001b[0m\u001b[1;33m)\u001b[0m\u001b[1;33m:\u001b[0m\u001b[1;33m\u001b[0m\u001b[0m\n\u001b[0;32m    394\u001b[0m                 \u001b[1;32mif\u001b[0m \u001b[0mbatch_index\u001b[0m \u001b[1;33m==\u001b[0m \u001b[1;36m0\u001b[0m\u001b[1;33m:\u001b[0m\u001b[1;33m\u001b[0m\u001b[0m\n",
      "\u001b[1;32m~\\AppData\\Local\\Continuum\\anaconda3\\lib\\site-packages\\keras\\backend\\tensorflow_backend.py\u001b[0m in \u001b[0;36m__call__\u001b[1;34m(self, inputs)\u001b[0m\n\u001b[0;32m   2713\u001b[0m                 \u001b[1;32mreturn\u001b[0m \u001b[0mself\u001b[0m\u001b[1;33m.\u001b[0m\u001b[0m_legacy_call\u001b[0m\u001b[1;33m(\u001b[0m\u001b[0minputs\u001b[0m\u001b[1;33m)\u001b[0m\u001b[1;33m\u001b[0m\u001b[0m\n\u001b[0;32m   2714\u001b[0m \u001b[1;33m\u001b[0m\u001b[0m\n\u001b[1;32m-> 2715\u001b[1;33m             \u001b[1;32mreturn\u001b[0m \u001b[0mself\u001b[0m\u001b[1;33m.\u001b[0m\u001b[0m_call\u001b[0m\u001b[1;33m(\u001b[0m\u001b[0minputs\u001b[0m\u001b[1;33m)\u001b[0m\u001b[1;33m\u001b[0m\u001b[0m\n\u001b[0m\u001b[0;32m   2716\u001b[0m         \u001b[1;32melse\u001b[0m\u001b[1;33m:\u001b[0m\u001b[1;33m\u001b[0m\u001b[0m\n\u001b[0;32m   2717\u001b[0m             \u001b[1;32mif\u001b[0m \u001b[0mpy_any\u001b[0m\u001b[1;33m(\u001b[0m\u001b[0mis_tensor\u001b[0m\u001b[1;33m(\u001b[0m\u001b[0mx\u001b[0m\u001b[1;33m)\u001b[0m \u001b[1;32mfor\u001b[0m \u001b[0mx\u001b[0m \u001b[1;32min\u001b[0m \u001b[0minputs\u001b[0m\u001b[1;33m)\u001b[0m\u001b[1;33m:\u001b[0m\u001b[1;33m\u001b[0m\u001b[0m\n",
      "\u001b[1;32m~\\AppData\\Local\\Continuum\\anaconda3\\lib\\site-packages\\keras\\backend\\tensorflow_backend.py\u001b[0m in \u001b[0;36m_call\u001b[1;34m(self, inputs)\u001b[0m\n\u001b[0;32m   2673\u001b[0m             \u001b[0mfetched\u001b[0m \u001b[1;33m=\u001b[0m \u001b[0mself\u001b[0m\u001b[1;33m.\u001b[0m\u001b[0m_callable_fn\u001b[0m\u001b[1;33m(\u001b[0m\u001b[1;33m*\u001b[0m\u001b[0marray_vals\u001b[0m\u001b[1;33m,\u001b[0m \u001b[0mrun_metadata\u001b[0m\u001b[1;33m=\u001b[0m\u001b[0mself\u001b[0m\u001b[1;33m.\u001b[0m\u001b[0mrun_metadata\u001b[0m\u001b[1;33m)\u001b[0m\u001b[1;33m\u001b[0m\u001b[0m\n\u001b[0;32m   2674\u001b[0m         \u001b[1;32melse\u001b[0m\u001b[1;33m:\u001b[0m\u001b[1;33m\u001b[0m\u001b[0m\n\u001b[1;32m-> 2675\u001b[1;33m             \u001b[0mfetched\u001b[0m \u001b[1;33m=\u001b[0m \u001b[0mself\u001b[0m\u001b[1;33m.\u001b[0m\u001b[0m_callable_fn\u001b[0m\u001b[1;33m(\u001b[0m\u001b[1;33m*\u001b[0m\u001b[0marray_vals\u001b[0m\u001b[1;33m)\u001b[0m\u001b[1;33m\u001b[0m\u001b[0m\n\u001b[0m\u001b[0;32m   2676\u001b[0m         \u001b[1;32mreturn\u001b[0m \u001b[0mfetched\u001b[0m\u001b[1;33m[\u001b[0m\u001b[1;33m:\u001b[0m\u001b[0mlen\u001b[0m\u001b[1;33m(\u001b[0m\u001b[0mself\u001b[0m\u001b[1;33m.\u001b[0m\u001b[0moutputs\u001b[0m\u001b[1;33m)\u001b[0m\u001b[1;33m]\u001b[0m\u001b[1;33m\u001b[0m\u001b[0m\n\u001b[0;32m   2677\u001b[0m \u001b[1;33m\u001b[0m\u001b[0m\n",
      "\u001b[1;32m~\\AppData\\Local\\Continuum\\anaconda3\\lib\\site-packages\\tensorflow\\python\\client\\session.py\u001b[0m in \u001b[0;36m__call__\u001b[1;34m(self, *args, **kwargs)\u001b[0m\n\u001b[0;32m   1437\u001b[0m           ret = tf_session.TF_SessionRunCallable(\n\u001b[0;32m   1438\u001b[0m               \u001b[0mself\u001b[0m\u001b[1;33m.\u001b[0m\u001b[0m_session\u001b[0m\u001b[1;33m.\u001b[0m\u001b[0m_session\u001b[0m\u001b[1;33m,\u001b[0m \u001b[0mself\u001b[0m\u001b[1;33m.\u001b[0m\u001b[0m_handle\u001b[0m\u001b[1;33m,\u001b[0m \u001b[0margs\u001b[0m\u001b[1;33m,\u001b[0m \u001b[0mstatus\u001b[0m\u001b[1;33m,\u001b[0m\u001b[1;33m\u001b[0m\u001b[0m\n\u001b[1;32m-> 1439\u001b[1;33m               run_metadata_ptr)\n\u001b[0m\u001b[0;32m   1440\u001b[0m         \u001b[1;32mif\u001b[0m \u001b[0mrun_metadata\u001b[0m\u001b[1;33m:\u001b[0m\u001b[1;33m\u001b[0m\u001b[0m\n\u001b[0;32m   1441\u001b[0m           \u001b[0mproto_data\u001b[0m \u001b[1;33m=\u001b[0m \u001b[0mtf_session\u001b[0m\u001b[1;33m.\u001b[0m\u001b[0mTF_GetBuffer\u001b[0m\u001b[1;33m(\u001b[0m\u001b[0mrun_metadata_ptr\u001b[0m\u001b[1;33m)\u001b[0m\u001b[1;33m\u001b[0m\u001b[0m\n",
      "\u001b[1;32m~\\AppData\\Local\\Continuum\\anaconda3\\lib\\site-packages\\tensorflow\\python\\framework\\errors_impl.py\u001b[0m in \u001b[0;36m__exit__\u001b[1;34m(self, type_arg, value_arg, traceback_arg)\u001b[0m\n\u001b[0;32m    526\u001b[0m             \u001b[1;32mNone\u001b[0m\u001b[1;33m,\u001b[0m \u001b[1;32mNone\u001b[0m\u001b[1;33m,\u001b[0m\u001b[1;33m\u001b[0m\u001b[0m\n\u001b[0;32m    527\u001b[0m             \u001b[0mcompat\u001b[0m\u001b[1;33m.\u001b[0m\u001b[0mas_text\u001b[0m\u001b[1;33m(\u001b[0m\u001b[0mc_api\u001b[0m\u001b[1;33m.\u001b[0m\u001b[0mTF_Message\u001b[0m\u001b[1;33m(\u001b[0m\u001b[0mself\u001b[0m\u001b[1;33m.\u001b[0m\u001b[0mstatus\u001b[0m\u001b[1;33m.\u001b[0m\u001b[0mstatus\u001b[0m\u001b[1;33m)\u001b[0m\u001b[1;33m)\u001b[0m\u001b[1;33m,\u001b[0m\u001b[1;33m\u001b[0m\u001b[0m\n\u001b[1;32m--> 528\u001b[1;33m             c_api.TF_GetCode(self.status.status))\n\u001b[0m\u001b[0;32m    529\u001b[0m     \u001b[1;31m# Delete the underlying status object from memory otherwise it stays alive\u001b[0m\u001b[1;33m\u001b[0m\u001b[1;33m\u001b[0m\u001b[0m\n\u001b[0;32m    530\u001b[0m     \u001b[1;31m# as there is a reference to status from this from the traceback due to\u001b[0m\u001b[1;33m\u001b[0m\u001b[1;33m\u001b[0m\u001b[0m\n",
      "\u001b[1;31mInvalidArgumentError\u001b[0m: Matrix size-incompatible: In[0]: [32,256], In[1]: [9216,4096]\n\t [[{{node model_17/dense_1/MatMul}}]]"
     ]
    }
   ],
   "source": [
    "score = model__pre_trained_final.evaluate(X_test, Y_test, verbose=1)\n",
    "print('Test score:', score[0])\n",
    "print('Test accuracy:', score[1])\n",
    "\n",
    "model__pre_trained_final.summary()"
   ]
  }
 ],
 "metadata": {
  "kernelspec": {
   "display_name": "Python 3",
   "language": "python",
   "name": "python3"
  },
  "language_info": {
   "codemirror_mode": {
    "name": "ipython",
    "version": 3
   },
   "file_extension": ".py",
   "mimetype": "text/x-python",
   "name": "python",
   "nbconvert_exporter": "python",
   "pygments_lexer": "ipython3",
   "version": "3.7.0"
  },
  "widgets": {
   "application/vnd.jupyter.widget-state+json": {
    "state": {},
    "version_major": 2,
    "version_minor": 0
   }
  }
 },
 "nbformat": 4,
 "nbformat_minor": 2
}
